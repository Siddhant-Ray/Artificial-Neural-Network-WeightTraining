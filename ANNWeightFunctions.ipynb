{
 "cells": [
  {
   "cell_type": "code",
   "execution_count": 1,
   "metadata": {},
   "outputs": [
    {
     "name": "stdout",
     "output_type": "stream",
     "text": [
      "[ 2  4 11]\n"
     ]
    }
   ],
   "source": [
    "import numpy as np\n",
    "input_vector = np.array([2, 4, 11])\n",
    "print(input_vector)"
   ]
  },
  {
   "cell_type": "code",
   "execution_count": 2,
   "metadata": {},
   "outputs": [
    {
     "name": "stdout",
     "output_type": "stream",
     "text": [
      "[[ 2]\n",
      " [ 4]\n",
      " [11]] (3, 1)\n"
     ]
    }
   ],
   "source": [
    "import numpy as np\n",
    "input_vector = np.array([2, 4, 11])\n",
    "input_vector = np.array(input_vector, ndmin=2).T\n",
    "print(input_vector, input_vector.shape)"
   ]
  },
  {
   "cell_type": "code",
   "execution_count": 3,
   "metadata": {},
   "outputs": [
    {
     "name": "stdout",
     "output_type": "stream",
     "text": [
      "True\n"
     ]
    }
   ],
   "source": [
    "number_of_samples = 1200\n",
    "low = -1\n",
    "high = 0\n",
    "s = np.random.uniform(low, high, number_of_samples)\n",
    "# s is in the interval [-1, 0) :\n",
    "print(np.all(s >= -1) and np.all(s < 0))"
   ]
  },
  {
   "cell_type": "code",
   "execution_count": 4,
   "metadata": {},
   "outputs": [
    {
     "data": {
      "image/png": "[encoded data removed]",
      "text/plain": [
       "<matplotlib.figure.Figure at 0x281bc0bb908>"
      ]
     },
     "metadata": {},
     "output_type": "display_data"
    }
   ],
   "source": [
    "import matplotlib.pyplot as plt\n",
    "plt.hist(s,color='r')\n",
    "plt.show()"
   ]
  },
  {
   "cell_type": "code",
   "execution_count": 5,
   "metadata": {},
   "outputs": [
    {
     "data": {
      "image/png": "[encoded data removed]",
      "text/plain": [
       "<matplotlib.figure.Figure at 0x281c6040f98>"
      ]
     },
     "metadata": {},
     "output_type": "display_data"
    }
   ],
   "source": [
    "s = np.random.binomial(100, 0.5, 1200)\n",
    "plt.hist(s,color='r')\n",
    "plt.show()"
   ]
  },
  {
   "cell_type": "code",
   "execution_count": 6,
   "metadata": {},
   "outputs": [
    {
     "data": {
      "image/png": "[encoded data removed]",
      "text/plain": [
       "<matplotlib.figure.Figure at 0x281c60dc240>"
      ]
     },
     "metadata": {},
     "output_type": "display_data"
    }
   ],
   "source": [
    "from scipy.stats import truncnorm\n",
    "s = truncnorm(a=-2/3., b=2/3., scale=1, loc=0).rvs(size=1000)\n",
    "plt.hist(s,color='r')\n",
    "plt.show()"
   ]
  },
  {
   "cell_type": "code",
   "execution_count": 7,
   "metadata": {},
   "outputs": [
    {
     "data": {
      "image/png": "[encoded data removed]",
      "text/plain": [
       "<matplotlib.figure.Figure at 0x281c5fd6908>"
      ]
     },
     "metadata": {},
     "output_type": "display_data"
    }
   ],
   "source": [
    "def truncated_normal(mean=0, sd=1, low=0, upp=10):\n",
    "    return truncnorm(\n",
    "        (low - mean) / sd, (upp - mean) / sd, loc=mean, scale=sd)\n",
    "X = truncated_normal(mean=0, sd=0.4, low=-0.5, upp=0.5)\n",
    "s = X.rvs(10000)\n",
    "plt.hist(s,color='r')\n",
    "plt.show()"
   ]
  },
  {
   "cell_type": "code",
   "execution_count": 8,
   "metadata": {},
   "outputs": [
    {
     "data": {
      "image/png": "[encoded data removed]",
      "text/plain": [
       "<matplotlib.figure.Figure at 0x281c607cba8>"
      ]
     },
     "metadata": {},
     "output_type": "display_data"
    }
   ],
   "source": [
    "X1 = truncated_normal(mean=2, sd=1, low=1, upp=10)\n",
    "X2 = truncated_normal(mean=5.5, sd=1, low=1, upp=10)\n",
    "X3 = truncated_normal(mean=8, sd=1, low=1, upp=10)\n",
    "import matplotlib.pyplot as plt\n",
    "fig, ax = plt.subplots(3, sharex=True)\n",
    "ax[0].hist(X1.rvs(10000),color='r', normed=True)\n",
    "ax[1].hist(X2.rvs(10000),color='r', normed=True)\n",
    "ax[2].hist(X3.rvs(10000),color='r', normed=True)\n",
    "plt.show()"
   ]
  },
  {
   "cell_type": "code",
   "execution_count": 9,
   "metadata": {},
   "outputs": [
    {
     "data": {
      "text/plain": [
       "array([[-0.29388041,  0.28410562,  0.18073129],\n",
       "       [ 0.49237305,  0.21730496,  0.18393912],\n",
       "       [-0.38234563,  0.54503297,  0.42529101],\n",
       "       [ 0.50910183,  0.04593636,  0.30766525]])"
      ]
     },
     "execution_count": 9,
     "metadata": {},
     "output_type": "execute_result"
    }
   ],
   "source": [
    "no_of_input_nodes = 3\n",
    "no_of_hidden_nodes = 4\n",
    "rad = 1 / np.sqrt(no_of_input_nodes)\n",
    "X = truncated_normal(mean=2, sd=1, low=-rad, upp=rad)\n",
    "wih = X.rvs((no_of_hidden_nodes, no_of_input_nodes))\n",
    "wih"
   ]
  },
  {
   "cell_type": "code",
   "execution_count": 10,
   "metadata": {},
   "outputs": [
    {
     "data": {
      "text/plain": [
       "array([[ 0.38160687,  0.43609446,  0.13990149, -0.05079619],\n",
       "       [-0.16221899,  0.12662874,  0.18335234,  0.08515253]])"
      ]
     },
     "execution_count": 10,
     "metadata": {},
     "output_type": "execute_result"
    }
   ],
   "source": [
    "no_of_hidden_nodes = 4\n",
    "no_of_output_nodes = 2\n",
    "rad = 1 / np.sqrt(no_of_hidden_nodes)\n",
    "X = truncated_normal(mean=2, sd=1, low=-rad, upp=rad)\n",
    "who = X.rvs((no_of_output_nodes, no_of_hidden_nodes))\n",
    "who"
   ]
  },
  {
   "cell_type": "code",
   "execution_count": 11,
   "metadata": {
    "collapsed": true
   },
   "outputs": [],
   "source": [
    "class NeuralNetwork:\n",
    "    \n",
    "    def __init__(self, \n",
    "                 no_of_in_nodes, \n",
    "                 no_of_out_nodes, \n",
    "                 no_of_hidden_nodes,\n",
    "                 learning_rate):\n",
    "        self.no_of_in_nodes = no_of_in_nodes\n",
    "        self.no_of_out_nodes = no_of_out_nodes \n",
    "        self.no_of_hidden_nodes = no_of_hidden_nodes\n",
    "        self.learning_rate = learning_rate  \n",
    "        self.create_weight_matrices()\n",
    "        \n",
    "    def create_weight_matrices(self):\n",
    "        rad = 1 / np.sqrt(self.no_of_in_nodes)\n",
    "        X = truncated_normal(mean=0, sd=1, low=-rad, upp=rad)\n",
    "        self.weights_in_hidden = X.rvs((self.no_of_hidden_nodes, \n",
    "                                       self.no_of_in_nodes))\n",
    "        rad = 1 / np.sqrt(self.no_of_hidden_nodes)\n",
    "        X = truncated_normal(mean=0, sd=1, low=-rad, upp=rad)\n",
    "        self.weights_hidden_out = X.rvs((self.no_of_out_nodes, \n",
    "                                        self.no_of_hidden_nodes))\n",
    "             \n",
    "    \n",
    "    def train(self):\n",
    "        pass\n",
    "    \n",
    "    def run(self):\n",
    "        pass"
   ]
  },
  {
   "cell_type": "code",
   "execution_count": 12,
   "metadata": {},
   "outputs": [
    {
     "name": "stdout",
     "output_type": "stream",
     "text": [
      "[[ 0.55249088 -0.15519353  0.17860997]\n",
      " [ 0.26072416  0.04216827  0.09974754]\n",
      " [-0.50967014 -0.00885941 -0.02426559]\n",
      " [-0.25959892  0.06622383 -0.2976071 ]]\n",
      "[[ 0.4727406  -0.40966999  0.42785309  0.34210467]\n",
      " [ 0.07473862 -0.22212782 -0.12969118 -0.09148549]]\n"
     ]
    }
   ],
   "source": [
    "if __name__ == \"__main__\":\n",
    "    simple_network = NeuralNetwork(no_of_in_nodes = 3, \n",
    "                                   no_of_out_nodes = 2, \n",
    "                                   no_of_hidden_nodes = 4,\n",
    "                                   learning_rate = 0.1)\n",
    "    print(simple_network.weights_in_hidden)\n",
    "    print(simple_network.weights_hidden_out)"
   ]
  },
  {
   "cell_type": "code",
   "execution_count": 13,
   "metadata": {},
   "outputs": [
    {
     "data": {
      "image/png": "[encoded data removed]",
      "text/plain": [
       "<matplotlib.figure.Figure at 0x281c60a92b0>"
      ]
     },
     "metadata": {},
     "output_type": "display_data"
    }
   ],
   "source": [
    "def sigma(x):\n",
    "    return 1 / (1 + np.exp(-x))\n",
    "X = np.linspace(-5, 5, 1000)\n",
    "plt.plot(X, sigma(X),'r')\n",
    "plt.xlabel('X Axis')\n",
    "plt.ylabel('Y Axis')\n",
    "plt.title('Sigmoid Function')\n",
    "plt.grid()\n",
    "plt.text(4, 0.8, r'$\\sigma(x)=\\frac{1}{1+e^{-x}}$', fontsize=16)\n",
    "plt.show()"
   ]
  },
  {
   "cell_type": "code",
   "execution_count": 14,
   "metadata": {},
   "outputs": [
    {
     "name": "stdout",
     "output_type": "stream",
     "text": [
      "0.9677045353015494\n",
      "[0.95257413 0.98201379 0.73105858]\n",
      "[0.68997448 0.90887704 0.99966465]\n"
     ]
    }
   ],
   "source": [
    "from scipy.special import expit\n",
    "print(expit(3.4))\n",
    "print(expit([3, 4, 1]))\n",
    "print(expit(np.array([0.8, 2.3, 8])))"
   ]
  },
  {
   "cell_type": "code",
   "execution_count": 15,
   "metadata": {
    "collapsed": true
   },
   "outputs": [],
   "source": [
    "import numpy as np\n",
    "from scipy.special import expit as activation_function\n",
    "from scipy.stats import truncnorm\n",
    "def truncated_normal(mean=0, sd=1, low=0, upp=10):\n",
    "    return truncnorm(\n",
    "        (low - mean) / sd, (upp - mean) / sd, loc=mean, scale=sd)\n",
    "class NeuralNetwork:\n",
    "           \n",
    "    def __init__(self, \n",
    "                 no_of_in_nodes, \n",
    "                 no_of_out_nodes, \n",
    "                 no_of_hidden_nodes,\n",
    "                 learning_rate):\n",
    "        self.no_of_in_nodes = no_of_in_nodes\n",
    "        self.no_of_out_nodes = no_of_out_nodes\n",
    "        self.no_of_hidden_nodes = no_of_hidden_nodes\n",
    "        self.learning_rate = learning_rate \n",
    "        self.create_weight_matrices()\n",
    "        \n",
    "    def create_weight_matrices(self):\n",
    "        rad = 1 / np.sqrt(self.no_of_in_nodes)\n",
    "        X = truncated_normal(mean=0, sd=1, low=-rad, upp=rad)\n",
    "        self.weights_in_hidden = X.rvs((self.no_of_hidden_nodes, \n",
    "                                       self.no_of_in_nodes))\n",
    "        rad = 1 / np.sqrt(self.no_of_hidden_nodes)\n",
    "        X = truncated_normal(mean=0, sd=1, low=-rad, upp=rad)\n",
    "        self.weights_hidden_out = X.rvs((self.no_of_out_nodes, \n",
    "                                        self.no_of_hidden_nodes))\n",
    "    \n",
    "    \n",
    "    def train(self, input_vector, target_vector):\n",
    "        pass\n",
    "            \n",
    "    \n",
    "    def run(self, input_vector):\n",
    "        \n",
    "        # turning the input vector into a column vector\n",
    "        input_vector = np.array(input_vector, ndmin=2).T\n",
    "        output_vector = np.dot(self.weights_in_hidden, input_vector)\n",
    "        output_vector = activation_function(output_vector)\n",
    "        \n",
    "        output_vector = np.dot(self.weights_hidden_out, output_vector)\n",
    "        output_vector = activation_function(output_vector)\n",
    "    \n",
    "        return output_vector"
   ]
  },
  {
   "cell_type": "code",
   "execution_count": 16,
   "metadata": {},
   "outputs": [
    {
     "data": {
      "text/plain": [
       "array([[0.42075993],\n",
       "       [0.55768745]])"
      ]
     },
     "execution_count": 16,
     "metadata": {},
     "output_type": "execute_result"
    }
   ],
   "source": [
    "simple_network = NeuralNetwork(no_of_in_nodes=2, \n",
    "                               no_of_out_nodes=2, \n",
    "                               no_of_hidden_nodes=10,\n",
    "                               learning_rate=0.6)\n",
    "simple_network.run([(3, 4)])"
   ]
  },
  {
   "cell_type": "code",
   "execution_count": 17,
   "metadata": {},
   "outputs": [
    {
     "data": {
      "text/plain": [
       "array([0.95257413, 0.98201379, 0.99330715])"
      ]
     },
     "execution_count": 17,
     "metadata": {},
     "output_type": "execute_result"
    }
   ],
   "source": [
    "@np.vectorize\n",
    "def sigmoid(x):\n",
    "    return 1 / (1 + np.e ** -x)\n",
    "#sigmoid = np.vectorize(sigmoid)\n",
    "sigmoid([3, 4, 5])"
   ]
  },
  {
   "cell_type": "code",
   "execution_count": 18,
   "metadata": {
    "collapsed": true
   },
   "outputs": [],
   "source": [
    "import numpy as np\n",
    "\n",
    "@np.vectorize\n",
    "def sigmoid(x):\n",
    "    return 1 / (1 + np.e ** -x)\n",
    "\n",
    "activation_function = sigmoid\n",
    "\n",
    "from scipy.stats import truncnorm\n",
    "\n",
    "def truncated_normal(mean=0, sd=1, low=0, upp=10):\n",
    "   \n",
    "    return truncnorm((low - mean) / sd, (upp - mean) / sd, loc=mean, scale=sd)\n",
    "\n",
    "class NeuralNetwork:\n",
    "    \n",
    "    def __init__(self, \n",
    "                 no_of_in_nodes, \n",
    "                 no_of_out_nodes, \n",
    "                 no_of_hidden_nodes,\n",
    "                 learning_rate):\n",
    "        self.no_of_in_nodes = no_of_in_nodes\n",
    "        self.no_of_out_nodes = no_of_out_nodes\n",
    "        self.no_of_hidden_nodes = no_of_hidden_nodes\n",
    "        self.learning_rate = learning_rate \n",
    "        self.create_weight_matrices()\n",
    "        \n",
    "    def create_weight_matrices(self):\n",
    "       \n",
    "        rad = 1 / np.sqrt(self.no_of_in_nodes)\n",
    "        X = truncated_normal(mean=0, sd=1, low=-rad, upp=rad)\n",
    "        self.weights_in_hidden = X.rvs((self.no_of_hidden_nodes, \n",
    "                                       self.no_of_in_nodes))\n",
    "        rad = 1 / np.sqrt(self.no_of_hidden_nodes)\n",
    "        X = truncated_normal(mean=0, sd=1, low=-rad, upp=rad)\n",
    "        self.weights_hidden_out = X.rvs((self.no_of_out_nodes, \n",
    "                                        self.no_of_hidden_nodes))\n",
    "        \n",
    "    \n",
    "    def train(self, input_vector, target_vector):\n",
    "        # input_vector and target_vector can be tuple, list or ndarray\n",
    "        \n",
    "        input_vector = np.array(input_vector, ndmin=2).T\n",
    "        target_vector = np.array(target_vector, ndmin=2).T\n",
    "        \n",
    "        output_vector1 = np.dot(self.weights_in_hidden, input_vector)\n",
    "        output_vector_hidden = activation_function(output_vector1)\n",
    "        \n",
    "        output_vector2 = np.dot(self.weights_hidden_out, output_vector_hidden)\n",
    "        output_vector_network = activation_function(output_vector2)\n",
    "        \n",
    "        output_errors = target_vector - output_vector_network\n",
    "        # update the weights:\n",
    "        tmp = output_errors * output_vector_network * (1.0 - output_vector_network)     \n",
    "        tmp = self.learning_rate  * np.dot(tmp, output_vector_hidden.T)\n",
    "        self.weights_hidden_out += tmp\n",
    "        # calculate hidden errors:\n",
    "        hidden_errors = np.dot(self.weights_hidden_out.T, output_errors)\n",
    "        # update the weights:\n",
    "        tmp = hidden_errors * output_vector_hidden * (1.0 - output_vector_hidden)\n",
    "        self.weights_in_hidden += self.learning_rate * np.dot(tmp, input_vector.T)\n",
    "           \n",
    "    \n",
    "    def run(self, input_vector):\n",
    "        # input_vector can be tuple, list or ndarray\n",
    "        input_vector = np.array(input_vector, ndmin=2).T\n",
    "        output_vector = np.dot(self.weights_in_hidden, input_vector)\n",
    "        output_vector = activation_function(output_vector)\n",
    "        \n",
    "        output_vector = np.dot(self.weights_hidden_out, output_vector)\n",
    "        output_vector = activation_function(output_vector)\n",
    "    \n",
    "        return output_vector"
   ]
  },
  {
   "cell_type": "code",
   "execution_count": 19,
   "metadata": {},
   "outputs": [
    {
     "data": {
      "image/png": "[encoded data removed]",
      "text/plain": [
       "<matplotlib.figure.Figure at 0x281c70e9e10>"
      ]
     },
     "metadata": {},
     "output_type": "display_data"
    }
   ],
   "source": [
    "data1 = [((3, 4), (0.99, 0.01)), ((4.2, 5.3), (0.99, 0.01)), \n",
    "         ((4, 3), (0.99, 0.01)), ((6, 5), (0.99, 0.01)), \n",
    "         ((4, 6), (0.99, 0.01)), ((3.7, 5.8), (0.99, 0.01)), \n",
    "         ((3.2, 4.6), (0.99, 0.01)), ((5.2, 5.9), (0.99, 0.01)), \n",
    "         ((5, 4), (0.99, 0.01)), ((7, 4), (0.99, 0.01)), \n",
    "         ((3, 7), (0.99, 0.01)), ((4.3, 4.3), (0.99, 0.01))]\n",
    "\n",
    "data2 = [((-3, -4), (0.01, 0.99)), ((-2, -3.5), (0.01, 0.99)), \n",
    "         ((-1, -6), (0.01, 0.99)), ((-3, -4.3), (0.01, 0.99)), \n",
    "         ((-4, -5.6), (0.01, 0.99)), ((-3.2, -4.8), (0.01, 0.99)), \n",
    "         ((-2.3, -4.3), (0.01, 0.99)), ((-2.7, -2.6), (0.01, 0.99)), \n",
    "         ((-1.5, -3.6), (0.01, 0.99)), ((-3.6, -5.6), (0.01, 0.99)), \n",
    "         ((-4.5, -4.6), (0.01, 0.99)), ((-3.7, -5.8), (0.01, 0.99))]\n",
    "data = data1 + data2\n",
    "np.random.shuffle(data)\n",
    "points1, labels1 = zip(*data1)\n",
    "X, Y = zip(*points1)\n",
    "plt.scatter(X, Y, c=\"r\")\n",
    "points2, labels2 = zip(*data2)\n",
    "X, Y = zip(*points2)\n",
    "plt.scatter(X, Y, c=\"b\")\n",
    "plt.show()"
   ]
  },
  {
   "cell_type": "code",
   "execution_count": 20,
   "metadata": {},
   "outputs": [
    {
     "name": "stdout",
     "output_type": "stream",
     "text": [
      "\n",
      "(-3, -4.3) [0.28090705] [0.75874933]: class1 correct (0.01, 0.99)\n",
      "(-3.2, -4.8) [0.2801233] [0.75969023]: class1 correct (0.01, 0.99)\n",
      "(3, 7) [0.49977545] [0.50026634]: class2 incorrect (0.99, 0.01)\n",
      "(-4, -5.6) [0.27940196] [0.76052484]: class1 correct (0.01, 0.99)\n",
      "(3.2, 4.6) [0.49816747] [0.50242909]: class2 incorrect (0.99, 0.01)\n",
      "(4, 6) [0.49956115] [0.50058867]: class2 incorrect (0.99, 0.01)\n",
      "(4, 3) [0.49293173] [0.51072194]: class2 incorrect (0.99, 0.01)\n",
      "(-1.5, -3.6) [0.28414996] [0.75544278]: class1 correct (0.01, 0.99)\n",
      "(5, 4) [0.49745415] [0.50405321]: class2 incorrect (0.99, 0.01)\n",
      "(3.7, 5.8) [0.49944189] [0.50073504]: class2 incorrect (0.99, 0.01)\n",
      "(6, 5) [0.49908148] [0.50152434]: class2 incorrect (0.99, 0.01)\n",
      "(-3.7, -5.8) [0.27934103] [0.76061959]: class1 correct (0.01, 0.99)\n",
      "(-4.5, -4.6) [0.28010086] [0.75952296]: class1 correct (0.01, 0.99)\n",
      "(5.2, 5.9) [0.49959599] [0.50060719]: class2 incorrect (0.99, 0.01)\n",
      "(-2.3, -4.3) [0.28123583] [0.75851892]: class1 correct (0.01, 0.99)\n",
      "(-2.7, -2.6) [0.2886786] [0.74892802]: class1 correct (0.01, 0.99)\n",
      "(-1, -6) [0.27966114] [0.76040023]: class1 correct (0.01, 0.99)\n",
      "(-3, -4) [0.28153572] [0.75795796]: class1 correct (0.01, 0.99)\n",
      "(-2, -3.5) [0.28397973] [0.7553876]: class1 correct (0.01, 0.99)\n",
      "(7, 4) [0.49748948] [0.50453591]: class2 incorrect (0.99, 0.01)\n",
      "(-3.6, -5.6) [0.27944155] [0.76050009]: class1 correct (0.01, 0.99)\n"
     ]
    }
   ],
   "source": [
    "simple_network = NeuralNetwork(no_of_in_nodes=2, \n",
    "                               no_of_out_nodes=2, \n",
    "                               no_of_hidden_nodes=2,\n",
    "                               learning_rate=0.6)\n",
    "    \n",
    "size_of_learn_sample = int(len(data)*0.9)\n",
    "learn_data = data[:size_of_learn_sample]\n",
    "test_data = data[-size_of_learn_sample:]\n",
    "print()\n",
    "for i in range(size_of_learn_sample):\n",
    "    point, label = learn_data[i][0], learn_data[i][1]\n",
    "    simple_network.train(point, label)\n",
    "    \n",
    "for i in range(size_of_learn_sample):\n",
    "    point, label = learn_data[i][0], learn_data[i][1]\n",
    "    cls1, cls2 =simple_network.run(point)\n",
    "    print(point, cls1, cls2, end=\": \")\n",
    "    if cls1 > cls2:\n",
    "        if label == (0.99, 0.01):\n",
    "            print(\"class1 correct\", label)\n",
    "        else:\n",
    "            print(\"class2 incorrect\", label)\n",
    "    else:\n",
    "        if label == (0.01, 0.99):\n",
    "            print(\"class1 correct\", label)\n",
    "        else:\n",
    "            print(\"class2 incorrect\", label)"
   ]
  },
  {
   "cell_type": "code",
   "execution_count": 21,
   "metadata": {
    "collapsed": true
   },
   "outputs": [],
   "source": [
    "# alternative activation function\n",
    "def ReLU(x):\n",
    "    return np.maximum(0.0, x)\n",
    "# derivation of relu\n",
    "def ReLU_derivation(x):\n",
    "    if x <= 0:\n",
    "        return 0\n",
    "    else:\n",
    "        return 1"
   ]
  },
  {
   "cell_type": "code",
   "execution_count": 22,
   "metadata": {},
   "outputs": [
    {
     "data": {
      "image/png": "[encoded data removed]",
      "text/plain": [
       "<matplotlib.figure.Figure at 0x281c7136588>"
      ]
     },
     "metadata": {},
     "output_type": "display_data"
    }
   ],
   "source": [
    "X = np.linspace(-5, 5, 100)\n",
    "plt.plot(X, ReLU(X),'b')\n",
    "plt.xlabel('X Axis')\n",
    "plt.ylabel('Y Axis')\n",
    "plt.title('ReLU Function')\n",
    "plt.grid()\n",
    "plt.text(3, 0.8, r'$ReLU(x)=max(0.0, x)$', fontsize=16)\n",
    "plt.show()"
   ]
  },
  {
   "cell_type": "code",
   "execution_count": 23,
   "metadata": {
    "collapsed": true
   },
   "outputs": [],
   "source": [
    "import numpy as np\n",
    "\n",
    "@np.vectorize\n",
    "def sigmoid(x):\n",
    "    return 1 / (1 + np.e ** -x)\n",
    "activation_function = sigmoid\n",
    "\n",
    "from scipy.stats import truncnorm\n",
    "\n",
    "def truncated_normal(mean=0, sd=1, low=0, upp=10):\n",
    "    return truncnorm((low - mean) / sd, (upp - mean) / sd, loc=mean, scale=sd)\n",
    "\n",
    "class NeuralNetwork:\n",
    "        \n",
    "    \n",
    "    def __init__(self, no_of_in_nodes, no_of_out_nodes, no_of_hidden_nodes, learning_rate, bias=None):\n",
    "        \n",
    "        self.no_of_in_nodes = no_of_in_nodes\n",
    "        self.no_of_out_nodes = no_of_out_nodes\n",
    "        \n",
    "        self.no_of_hidden_nodes = no_of_hidden_nodes\n",
    "            \n",
    "        self.learning_rate = learning_rate \n",
    "        self.bias = bias\n",
    "        self.create_weight_matrices()\n",
    "    \n",
    "        \n",
    "    \n",
    "    def create_weight_matrices(self):\n",
    "        \n",
    "        bias_node = 1 if self.bias else 0\n",
    "        \n",
    "        rad = 1 / np.sqrt(self.no_of_in_nodes + bias_node)\n",
    "        X = truncated_normal(mean=0, sd=1, low=-rad, upp=rad)\n",
    "        self.weights_in_hidden = X.rvs((self.no_of_hidden_nodes, \n",
    "                                       self.no_of_in_nodes + bias_node))\n",
    "        rad = 1 / np.sqrt(self.no_of_hidden_nodes + bias_node)\n",
    "        X = truncated_normal(mean=0, sd=1, low=-rad, upp=rad)\n",
    "        self.weights_hidden_out = X.rvs((self.no_of_out_nodes, \n",
    "                                        self.no_of_hidden_nodes + bias_node))\n",
    "        \n",
    "        \n",
    "        \n",
    "    def train(self, input_vector, target_vector):\n",
    "        # input_vector and target_vector can be tuple, list or ndarray\n",
    "        \n",
    "        bias_node = 1 if self.bias else 0\n",
    "        if self.bias:\n",
    "            # adding bias node to the end of the inpuy_vector\n",
    "            input_vector = np.concatenate( (input_vector, [self.bias]) )\n",
    "                                    \n",
    "            \n",
    "        input_vector = np.array(input_vector, ndmin=2).T\n",
    "        target_vector = np.array(target_vector, ndmin=2).T\n",
    "        \n",
    "        output_vector1 = np.dot(self.weights_in_hidden, input_vector)\n",
    "        output_vector_hidden = activation_function(output_vector1)\n",
    "        \n",
    "        if self.bias:\n",
    "            output_vector_hidden = np.concatenate( (output_vector_hidden, [[self.bias]]) )\n",
    "        \n",
    "        \n",
    "        output_vector2 = np.dot(self.weights_hidden_out, output_vector_hidden)\n",
    "        output_vector_network = activation_function(output_vector2)\n",
    "        \n",
    "        output_errors = target_vector - output_vector_network\n",
    "        # update the weights:\n",
    "        tmp = output_errors * output_vector_network * (1.0 - output_vector_network)     \n",
    "        tmp = self.learning_rate  * np.dot(tmp, output_vector_hidden.T)\n",
    "        self.weights_hidden_out += tmp\n",
    "        # calculate hidden errors:\n",
    "        hidden_errors = np.dot(self.weights_hidden_out.T, output_errors)\n",
    "        # update the weights:\n",
    "        tmp = hidden_errors * output_vector_hidden * (1.0 - output_vector_hidden)\n",
    "        if self.bias:\n",
    "            x = np.dot(tmp, input_vector.T)[:-1,:]     \n",
    "        else:\n",
    "            x = np.dot(tmp, input_vector.T)\n",
    "        self.weights_in_hidden += self.learning_rate * x\n",
    "        \n",
    "       \n",
    "    \n",
    "    def run(self, input_vector):\n",
    "        # input_vector can be tuple, list or ndarray\n",
    "        \n",
    "        if self.bias:\n",
    "            # adding bias node to the end of the inpuy_vector\n",
    "            input_vector = np.concatenate( (input_vector, [1]) )\n",
    "        input_vector = np.array(input_vector, ndmin=2).T\n",
    "        output_vector = np.dot(self.weights_in_hidden, input_vector)\n",
    "        output_vector = activation_function(output_vector)\n",
    "        \n",
    "        if self.bias:\n",
    "            output_vector = np.concatenate( (output_vector, [[1]]) )\n",
    "            \n",
    "        output_vector = np.dot(self.weights_hidden_out, output_vector)\n",
    "        output_vector = activation_function(output_vector)\n",
    "    \n",
    "        return output_vector"
   ]
  },
  {
   "cell_type": "code",
   "execution_count": 24,
   "metadata": {},
   "outputs": [
    {
     "name": "stdout",
     "output_type": "stream",
     "text": [
      "[[(-3, -4), [0, 1]], [(4.3, 4.3), [1, 0]], [(-3, -4.3), [0, 1]], [(5, 4), [1, 0]], [(-2.3, -4.3), [0, 1]], [(-1, -6), [0, 1]], [(3.7, 5.8), [1, 0]], [(-2, -3.5), [0, 1]], [(4, 6), [1, 0]], [(5.2, 5.9), [1, 0]]]\n"
     ]
    }
   ],
   "source": [
    "class1 = [(3, 4), (4.2, 5.3), (4, 3), (6, 5), (4, 6), (3.7, 5.8),\n",
    "          (3.2, 4.6), (5.2, 5.9), (5, 4), (7, 4), (3, 7), (4.3, 4.3) ] \n",
    "class2 = [(-3, -4), (-2, -3.5), (-1, -6), (-3, -4.3), (-4, -5.6), \n",
    "          (-3.2, -4.8), (-2.3, -4.3), (-2.7, -2.6), (-1.5, -3.6), \n",
    "          (-3.6, -5.6), (-4.5, -4.6), (-3.7, -5.8) ]\n",
    "labeled_data = []\n",
    "for el in class1:\n",
    "    labeled_data.append( [el, [1, 0]])\n",
    "for el in class2:\n",
    "    labeled_data.append([el, [0, 1]])\n",
    "  \n",
    "np.random.shuffle(labeled_data)\n",
    "print(labeled_data[:10])\n",
    "data, labels = zip(*labeled_data)\n",
    "labels = np.array(labels)\n",
    "data = np.array(data)"
   ]
  },
  {
   "cell_type": "code",
   "execution_count": 31,
   "metadata": {},
   "outputs": [
    {
     "name": "stdout",
     "output_type": "stream",
     "text": [
      "[0 1]\n",
      "[[0.24472359]\n",
      " [0.78968954]]\n",
      "[1 0]\n",
      "[[0.95794591]\n",
      " [0.05342865]]\n",
      "[0 1]\n",
      "[[0.24345604]\n",
      " [0.79147965]]\n",
      "[1 0]\n",
      "[[0.95705556]\n",
      " [0.05440824]]\n",
      "[0 1]\n",
      "[[0.2414865 ]\n",
      " [0.79541842]]\n",
      "[0 1]\n",
      "[[0.23615134]\n",
      " [0.80770759]]\n",
      "[1 0]\n",
      "[[0.95946773]\n",
      " [0.05239286]]\n",
      "[0 1]\n",
      "[[0.24568606]\n",
      " [0.790556  ]]\n",
      "[1 0]\n",
      "[[0.95939394]\n",
      " [0.05272049]]\n",
      "[1 0]\n",
      "[[0.95863933]\n",
      " [0.05397397]]\n",
      "[0 1]\n",
      "[[0.24220861]\n",
      " [0.79327289]]\n",
      "[0 1]\n",
      "[[0.25856568]\n",
      " [0.77546812]]\n",
      "[1 0]\n",
      "[[0.95736589]\n",
      " [0.05488189]]\n",
      "[1 0]\n",
      "[[0.95888044]\n",
      " [0.05299624]]\n",
      "[0 1]\n",
      "[[0.24256833]\n",
      " [0.79270503]]\n",
      "[1 0]\n",
      "[[0.95900676]\n",
      " [0.05209206]]\n",
      "[0 1]\n",
      "[[0.24733761]\n",
      " [0.78338989]]\n",
      "[1 0]\n",
      "[[0.96016944]\n",
      " [0.05144924]]\n",
      "[1 0]\n",
      "[[0.9559703 ]\n",
      " [0.05494476]]\n",
      "[1 0]\n",
      "[[0.95552707]\n",
      " [0.05666202]]\n",
      "[0 1]\n",
      "[[0.24467501]\n",
      " [0.79296616]]\n",
      "[1 0]\n",
      "[[0.95848809]\n",
      " [0.05229483]]\n",
      "[0 1]\n",
      "[[0.24219292]\n",
      " [0.79331041]]\n",
      "[0 1]\n",
      "[[0.24326847]\n",
      " [0.79078766]]\n"
     ]
    }
   ],
   "source": [
    "simple_network = NeuralNetwork(no_of_in_nodes=2, \n",
    "                               no_of_out_nodes=2, \n",
    "                               no_of_hidden_nodes=10,\n",
    "                               learning_rate=0.1,\n",
    "                               bias=None)\n",
    "def accuracy(i,j):\n",
    "    return((j/i)*100)\n",
    "\n",
    "for _ in range(20):\n",
    "    for i in range(len(data)):\n",
    "        simple_network.train(data[i], labels[i])\n",
    "for i in range(len(data)):\n",
    "    print(labels[i])\n",
    "    print(simple_network.run(data[i]))"
   ]
  },
  {
   "cell_type": "code",
   "execution_count": null,
   "metadata": {
    "collapsed": true
   },
   "outputs": [],
   "source": []
  }
 ],
 "metadata": {
  "kernelspec": {
   "display_name": "Python 3",
   "language": "python",
   "name": "python3"
  },
  "language_info": {
   "codemirror_mode": {
    "name": "ipython",
    "version": 3
   },
   "file_extension": ".py",
   "mimetype": "text/x-python",
   "name": "python",
   "nbconvert_exporter": "python",
   "pygments_lexer": "ipython3",
   "version": "3.6.1"
  }
 },
 "nbformat": 4,
 "nbformat_minor": 2
}
